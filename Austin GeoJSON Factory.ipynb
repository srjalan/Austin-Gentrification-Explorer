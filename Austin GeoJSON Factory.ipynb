{
 "cells": [
  {
   "cell_type": "code",
   "execution_count": 1,
   "metadata": {},
   "outputs": [],
   "source": [
    "import pandas as pd\n",
    "import geopandas as gpd\n",
    "import numpy as np\n",
    "import json\n",
    "from shapely.geometry import shape\n",
    "from sklearn.preprocessing import MinMaxScaler \n",
    "import matplotlib.pyplot as plt"
   ]
  },
  {
   "cell_type": "markdown",
   "metadata": {},
   "source": [
    "#### Exclude tracts that are too far from they city core or have no data from any years"
   ]
  },
  {
   "cell_type": "code",
   "execution_count": 2,
   "metadata": {},
   "outputs": [],
   "source": [
    "census_track_geojson = 'data/Austin_Census_Tracts_simplified.json'\n",
    "score_data = 'data/austin_stats_data.csv'\n",
    "\n",
    "exclusion_FIPS = ['48453001741', '48453001742', '48453001743', '48453001760', '48453001762',\n",
    "                  '48453001764', '48453001765', \n",
    "                  '48453001766', '48453001767', \n",
    "                  '48453001768', '48453001836', '48453001837', \n",
    "                  '48453001840', '48453001841', '48453001842',\n",
    "                  '48453001906', '48453001904', '48453001909', '48453001732',\n",
    "                  '48453002206', '48453002303', '48453002416', '48453002417', \n",
    "                  '48453002418', '48453002205'\n",
    "                 ]\n",
    "\n",
    "with open(census_track_geojson) as f:\n",
    "    geo_data = json.load(f)"
   ]
  },
  {
   "cell_type": "markdown",
   "metadata": {},
   "source": [
    "#### Find representative point within each shape"
   ]
  },
  {
   "cell_type": "code",
   "execution_count": 3,
   "metadata": {},
   "outputs": [],
   "source": [
    "df_geo_data = gpd.read_file(census_track_geojson)\n",
    "rep_points = df_geo_data['geometry'].representative_point()\n",
    "df_geo_data['rep_point_lat'] = rep_points.y\n",
    "df_geo_data['rep_point_lon'] = rep_points.x"
   ]
  },
  {
   "cell_type": "markdown",
   "metadata": {},
   "source": [
    "#### Only include tracts within travis county"
   ]
  },
  {
   "cell_type": "code",
   "execution_count": 4,
   "metadata": {},
   "outputs": [],
   "source": [
    "df_geo_data_travis = df_geo_data[df_geo_data['FIPS'].str[:5]=='48453']\n",
    "df_geo_data_travis = df_geo_data_travis[~df_geo_data_travis['FIPS'].isin(exclusion_FIPS)]"
   ]
  },
  {
   "cell_type": "code",
   "execution_count": 6,
   "metadata": {},
   "outputs": [],
   "source": [
    "# Create lon_lat file\n",
    "df_geo_data_travis[['FIPS','rep_point_lat','rep_point_lon']].to_csv('data/austin_lon_lat_data.csv',index=False)"
   ]
  },
  {
   "cell_type": "code",
   "execution_count": 10,
   "metadata": {},
   "outputs": [],
   "source": [
    "df_geo_data_travis['FIPS']=df_geo_data_travis['FIPS'].astype(np.int64)\n",
    "df_geo_data_travis = df_geo_data_travis[['FIPS','geometry']]"
   ]
  },
  {
   "cell_type": "code",
   "execution_count": 11,
   "metadata": {},
   "outputs": [],
   "source": [
    "df_score = pd.read_csv(score_data)"
   ]
  },
  {
   "cell_type": "markdown",
   "metadata": {},
   "source": [
    "#### Function to assign tract color based on standardized score"
   ]
  },
  {
   "cell_type": "code",
   "execution_count": 17,
   "metadata": {},
   "outputs": [],
   "source": [
    "def assign_color_bin(row):\n",
    "    if row[2]==-1: return 0\n",
    "    elif row[2]<=0.125: return 1\n",
    "    elif row[2]<=0.25: return 2\n",
    "    elif row[2]<=0.375: return 3\n",
    "    elif row[2]<=0.5: return 4\n",
    "    elif row[2]<=0.625: return 5\n",
    "    elif row[2]<=0.75: return 6\n",
    "    elif row[2]<=0.875: return 7\n",
    "    else: return 8    \n",
    "    return -1"
   ]
  },
  {
   "cell_type": "markdown",
   "metadata": {},
   "source": [
    "#### Vulnerability Score Coloring"
   ]
  },
  {
   "cell_type": "code",
   "execution_count": 29,
   "metadata": {},
   "outputs": [],
   "source": [
    "scaler = MinMaxScaler()\n",
    "df_score['normalized_vuln_score'] = scaler.fit_transform(df_score['Vulnerability Score'].values.reshape((-1,1)))\n",
    "\n",
    "for i in range(5):\n",
    "    austin_score_year = df_score[df_score['year']==2013+i]\n",
    "    austin_score_year = pd.merge(df_geo_data_travis, austin_score_year[['FIPS','normalized_vuln_score']], on='FIPS', how='left')\n",
    "    austin_score_year['normalized_vuln_score'] = austin_score_year['normalized_vuln_score'].fillna(-1)\n",
    "    austin_score_year['color_bin'] = austin_score_year.apply(assign_color_bin, axis=1)\n",
    "    for j in range(9):\n",
    "        austin_score_year[['FIPS','normalized_vuln_score','geometry']][austin_score_year['color_bin']==j].to_file('data/Vulnerability Score/'+str(2013+i)+'/austin'+str(j)+'.geojson',driver='GeoJSON')"
   ]
  },
  {
   "cell_type": "markdown",
   "metadata": {},
   "source": [
    "#### Predicted Score Coloring"
   ]
  },
  {
   "cell_type": "code",
   "execution_count": 36,
   "metadata": {},
   "outputs": [
    {
     "name": "stdout",
     "output_type": "stream",
     "text": [
      "No tract in this group\n"
     ]
    }
   ],
   "source": [
    "scaler = MinMaxScaler()\n",
    "df_score['normalized_pred_score'] = scaler.fit_transform(df_score['Predicted Score'].values.reshape((-1,1)))\n",
    "\n",
    "for i in range(8):\n",
    "    austin_score_year = df_score[df_score['year']==2013+i]\n",
    "    austin_score_year = pd.merge(df_geo_data_travis, austin_score_year[['FIPS','normalized_pred_score']], on='FIPS', how='left')\n",
    "    austin_score_year['normalized_pred_score'] = austin_score_year['normalized_pred_score'].fillna(-1)\n",
    "    austin_score_year['color_bin'] = austin_score_year.apply(assign_color_bin, axis=1)\n",
    "    for j in range(9):\n",
    "        try:\n",
    "            austin_score_year[['FIPS','normalized_pred_score','geometry']][austin_score_year['color_bin']==j].to_file('data/Predicted Score/'+str(2013+i)+'/austin'+str(j)+'.geojson',driver='GeoJSON')\n",
    "        except:\n",
    "            print(\"No tract in this group\")\n",
    "            pass"
   ]
  }
 ],
 "metadata": {
  "kernelspec": {
   "display_name": "Python 3",
   "language": "python",
   "name": "python3"
  },
  "language_info": {
   "codemirror_mode": {
    "name": "ipython",
    "version": 3
   },
   "file_extension": ".py",
   "mimetype": "text/x-python",
   "name": "python",
   "nbconvert_exporter": "python",
   "pygments_lexer": "ipython3",
   "version": "3.7.1"
  }
 },
 "nbformat": 4,
 "nbformat_minor": 2
}
